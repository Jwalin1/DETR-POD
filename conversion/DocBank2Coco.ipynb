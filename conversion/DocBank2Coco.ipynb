{
 "cells": [
  {
   "cell_type": "code",
   "execution_count": 14,
   "metadata": {},
   "outputs": [],
   "source": [
    "import os\n",
    "import cv2\n",
    "from tqdm import tqdm\n",
    "import json\n",
    "\n",
    "anno_path = \"E:/Datasets/DocBank/DocBank_500K_txt\"\n",
    "img_path = \"E:/Datasets/DocBank/DocBank_500K_ori_img\"\n",
    "output_annotation_file = \"E:/Datasets/DocBank/train.json\"\n",
    "\n",
    "train = range(1000)\n",
    "val = range(1000,1500)"
   ]
  },
  {
   "cell_type": "code",
   "execution_count": null,
   "metadata": {},
   "outputs": [],
   "source": [
    "import re\n",
    "\n",
    "def natural_sort(l): \n",
    "    convert = lambda text: int(text) if text.isdigit() else text.lower() \n",
    "    alphanum_key = lambda key: [ convert(c) for c in re.split('([0-9]+)', key) ] \n",
    "    return sorted(l, key = alphanum_key)"
   ]
  },
  {
   "cell_type": "code",
   "execution_count": 12,
   "metadata": {},
   "outputs": [
    {
     "name": "stderr",
     "output_type": "stream",
     "text": [
      "100%|██████████████████████████████████████| 1000/1000 [00:11<00:00, 88.28it/s]"
     ]
    },
    {
     "name": "stdout",
     "output_type": "stream",
     "text": [
      "['abstract', 'author', 'caption', 'date', 'equation', 'figure', 'footer', 'list', 'paragraph', 'reference', 'section', 'table', 'title']\n",
      "[{'supercategory': 'none', 'id': 0, 'name': 'abstract'}, {'supercategory': 'none', 'id': 1, 'name': 'author'}, {'supercategory': 'none', 'id': 2, 'name': 'caption'}, {'supercategory': 'none', 'id': 3, 'name': 'date'}, {'supercategory': 'none', 'id': 4, 'name': 'equation'}, {'supercategory': 'none', 'id': 5, 'name': 'figure'}, {'supercategory': 'none', 'id': 6, 'name': 'footer'}, {'supercategory': 'none', 'id': 7, 'name': 'list'}, {'supercategory': 'none', 'id': 8, 'name': 'paragraph'}, {'supercategory': 'none', 'id': 9, 'name': 'reference'}, {'supercategory': 'none', 'id': 10, 'name': 'section'}, {'supercategory': 'none', 'id': 11, 'name': 'table'}, {'supercategory': 'none', 'id': 12, 'name': 'title'}]\n"
     ]
    },
    {
     "name": "stderr",
     "output_type": "stream",
     "text": [
      "\n"
     ]
    }
   ],
   "source": [
    "coco_data = {}\n",
    "files = natural_sort(os.listdir(anno_path))    #get all files in the folder\n",
    "cats = []\n",
    "\n",
    "'''\n",
    "for i in tqdm(range(1000)):\n",
    "    #read the file contents\n",
    "    fname = anno_path + \"/\" + files[i]\n",
    "    f = open(fname, 'r', encoding=\"utf8\")\n",
    "    lines = f.readlines()        \n",
    "    f.close()   \n",
    "\n",
    "    #loop to form categories for the list dictionary\n",
    "    for j in range(len(lines)):\n",
    "        line = lines[j].split('\t')\n",
    "        cat_name = line[-1][:-1]\n",
    "        if cat_name not in cats:            \n",
    "            cats.append(cat_name)\n",
    "cats = sorted(cats)\n",
    "'''\n",
    "\n",
    "cats = ['abstract', 'author', 'caption', 'date', 'equation', 'figure', 'footer', 'formula', 'list', 'logo', 'natural_image', 'paragraph', 'reference', 'section', 'signature', 'table', 'title']\n",
    "\n",
    "list_dict = []\n",
    "for i in range(len(cats)):\n",
    "    tmp = {}\n",
    "    tmp[\"supercategory\"] = \"none\"\n",
    "    tmp[\"id\"] = i\n",
    "    tmp[\"name\"] = cats[i]\n",
    "    list_dict.append(tmp)\n",
    "\n",
    "coco_data[\"categories\"] = list_dict\n",
    "print(coco_data[\"categories\"])           "
   ]
  },
  {
   "cell_type": "code",
   "execution_count": 17,
   "metadata": {},
   "outputs": [
    {
     "name": "stderr",
     "output_type": "stream",
     "text": [
      "100%|██████████████████████████████████████| 1000/1000 [00:50<00:00, 19.63it/s]\n"
     ]
    }
   ],
   "source": [
    "coco_data[\"images\"] = []\n",
    "coco_data[\"annotations\"] = []\n",
    "\n",
    "img_id = 0\n",
    "ann_id = 0\n",
    "\n",
    "for img_id in tqdm(train):\n",
    "    \n",
    "    #read the file contents\n",
    "    fname = anno_path + \"/\" + files[img_id]\n",
    "    f = open(fname, 'r', encoding=\"utf8\")\n",
    "    lines = f.readlines()        \n",
    "    f.close()   \n",
    "    \n",
    "    \n",
    "    start = fname.rfind('/') + 1\n",
    "    fname = fname[start:]\n",
    "    img_name = fname.replace(\".txt\",\"_ori.jpg\")\n",
    "    \n",
    "\n",
    "    img = img_path + '/' + img_name\n",
    "    if(not os.path.isfile(img)):\n",
    "        print('error reading file\\n',img)\n",
    "        continue\n",
    "    img = cv2.imread(img, 1)\n",
    "    h, w, c = img.shape\n",
    "\n",
    "    images_tmp = {}\n",
    "    images_tmp[\"file_name\"] = img_name\n",
    "    images_tmp[\"height\"] = h\n",
    "    images_tmp[\"width\"] = w\n",
    "    images_tmp[\"id\"] = img_id\n",
    "    coco_data[\"images\"].append(images_tmp)\n",
    "    \n",
    "\n",
    "    for j in range(len(lines)):\n",
    "        \n",
    "        line = lines[j].split('\t')\n",
    "        label = line[-1][:-1]\n",
    "\n",
    "        x1 = int(line[1])\n",
    "        y1 = int(line[2])\n",
    "        x2 = int(line[3])\n",
    "        y2 = int(line[4])\n",
    "        \n",
    "\n",
    "        annotations_tmp = {}\n",
    "        annotations_tmp[\"id\"] = ann_id\n",
    "        ann_id += 1\n",
    "        annotations_tmp[\"image_id\"] = img_id\n",
    "        annotations_tmp[\"segmentation\"] = []\n",
    "        annotations_tmp[\"ignore\"] = 0\n",
    "        annotations_tmp[\"area\"] = (x2-x1)*(y2-y1)\n",
    "        annotations_tmp[\"iscrowd\"] = 0\n",
    "        annotations_tmp[\"bbox\"] = [x1, y1, x2-x1, y2-y1]\n",
    "        annotations_tmp[\"category_id\"] = cats.index(label)\n",
    "\n",
    "        coco_data[\"annotations\"].append(annotations_tmp)"
   ]
  },
  {
   "cell_type": "code",
   "execution_count": 18,
   "metadata": {},
   "outputs": [],
   "source": [
    "outfile =  open(output_annotation_file, 'w')\n",
    "json_str = json.dumps(coco_data, indent=4)\n",
    "outfile.write(json_str)\n",
    "outfile.close()"
   ]
  }
 ],
 "metadata": {
  "kernelspec": {
   "display_name": "Python 3",
   "language": "python",
   "name": "python3"
  },
  "language_info": {
   "codemirror_mode": {
    "name": "ipython",
    "version": 3
   },
   "file_extension": ".py",
   "mimetype": "text/x-python",
   "name": "python",
   "nbconvert_exporter": "python",
   "pygments_lexer": "ipython3",
   "version": "3.6.10"
  }
 },
 "nbformat": 4,
 "nbformat_minor": 4
}
