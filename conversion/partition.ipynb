{
 "cells": [
  {
   "cell_type": "code",
   "execution_count": 93,
   "metadata": {},
   "outputs": [],
   "source": [
    "import os\n",
    "from tqdm import tqdm\n",
    "import random\n",
    "import shutil\n",
    "from tqdm import tqdm\n",
    "\n",
    "icdar_path = \"E:/Main-Task/icdar17_POD\"\n",
    "\n",
    "anno_path = os.path.join(icdar_path, \"dataset/Annotations\")\n",
    "img_path = os.path.join(icdar_path, \"dataset/Images\")\n",
    "output_path = os.path.join(icdar_path, \"dataset/partitioned\")\n",
    "\n",
    "test = 0.2;    #test ratio\n",
    "random.seed(1)    #seeding to get the same split"
   ]
  },
  {
   "cell_type": "code",
   "execution_count": 91,
   "metadata": {},
   "outputs": [],
   "source": [
    "files = os.listdir(anno_path)    #get all files in the folder\n",
    "files = [file.split('.')[0] for file in files]\n",
    "\n",
    "test = int(len(files)*test)\n",
    "\n",
    "random.shuffle(files)\n",
    "test_files = files[:test]\n",
    "train_files = files[test:]\n",
    "#print(len(train_files), len(test_files))    "
   ]
  },
  {
   "cell_type": "code",
   "execution_count": 101,
   "metadata": {},
   "outputs": [
    {
     "name": "stderr",
     "output_type": "stream",
     "text": [
      "100%|██████████████████████████████████████| 1600/1600 [00:23<00:00, 68.74it/s]\n"
     ]
    }
   ],
   "source": [
    "imgs = os.listdir(img_path)\n",
    "anns = os.listdir(anno_path)\n",
    "\n",
    "for i in tqdm(range(0,len(files))):\n",
    "    \n",
    "    if imgs[i].split('.')[0] in train_files:\n",
    "        shutil.copy(os.path.join(img_path, imgs[i]), os.path.join(output_path, \"train\"))\n",
    "        shutil.copy(os.path.join(anno_path, anns[i]), os.path.join(output_path, \"train/annotations\")) \n",
    "        \n",
    "    elif imgs[i].split('.')[0] in test_files:\n",
    "        shutil.copy(os.path.join(img_path, imgs[i]), os.path.join(output_path, \"test\"))\n",
    "        shutil.copy(os.path.join(anno_path, anns[i]), os.path.join(output_path, \"test/annotations\"))"
   ]
  }
 ],
 "metadata": {
  "kernelspec": {
   "display_name": "Python 3",
   "language": "python",
   "name": "python3"
  },
  "language_info": {
   "codemirror_mode": {
    "name": "ipython",
    "version": 3
   },
   "file_extension": ".py",
   "mimetype": "text/x-python",
   "name": "python",
   "nbconvert_exporter": "python",
   "pygments_lexer": "ipython3",
   "version": "3.6.10"
  }
 },
 "nbformat": 4,
 "nbformat_minor": 4
}
