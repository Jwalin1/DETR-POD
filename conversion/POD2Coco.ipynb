{
 "cells": [
  {
   "cell_type": "code",
   "execution_count": 5,
   "metadata": {},
   "outputs": [
    {
     "name": "stdout",
     "output_type": "stream",
     "text": [
      "range(0, 960) range(960, 1600)\n"
     ]
    }
   ],
   "source": [
    "import os\n",
    "import cv2\n",
    "from tqdm import tqdm\n",
    "import json\n",
    "from xml.etree import ElementTree as ET\n",
    "\n",
    "icdar_path = \"E:/Datasets/Extracted/icdar17_POD/dataset\"\n",
    "\n",
    "anno_path = os.path.join(icdar_path, \"Annotations\")\n",
    "img_path = os.path.join(icdar_path, \"Images\")\n",
    "\n",
    "output_annotation_file = icdar_path + \"/POD\" + \".json\"\n",
    "\n",
    "\n",
    "#as per the dataset, train:0-960 and test:960-1600\n",
    "train = range(960)\n",
    "test = range(960,1600)"
   ]
  },
  {
   "cell_type": "code",
   "execution_count": 23,
   "metadata": {},
   "outputs": [
    {
     "name": "stdout",
     "output_type": "stream",
     "text": [
      "[{'supercategory': 'none', 'id': 0, 'name': 'figure'}, {'supercategory': 'none', 'id': 1, 'name': 'formula'}, {'supercategory': 'none', 'id': 2, 'name': 'table'}]\n"
     ]
    }
   ],
   "source": [
    "coco_data = {}\n",
    "files = os.listdir(anno_path)    #get all files in the folder\n",
    "cats = []\n",
    "\n",
    "for i in tqdm(range(len(files))):\n",
    "    xml_path = anno_path + '/' + files[i]\n",
    "    xml = ET.parse(xml_path)\n",
    "    \n",
    "    root = xml.getroot()\n",
    "    children = root.getchildren()\n",
    "    \n",
    "    for child in children:\n",
    "        name = child.tag[:-6]\n",
    "        if name not in cats:\n",
    "            cats.append(name)\n",
    "            \n",
    "cats = sorted(cats)\n",
    "         \n",
    "    \n",
    "list_dict = []\n",
    "for i in range(len(cats)):\n",
    "    tmp = {}\n",
    "    tmp[\"supercategory\"] = \"none\"\n",
    "    tmp[\"id\"] = i\n",
    "    tmp[\"name\"] = cats[i]\n",
    "    list_dict.append(tmp)\n",
    "\n",
    "coco_data[\"categories\"] = list_dict\n",
    "print(coco_data[\"categories\"])"
   ]
  },
  {
   "cell_type": "code",
   "execution_count": 104,
   "metadata": {},
   "outputs": [
    {
     "name": "stderr",
     "output_type": "stream",
     "text": [
      "100%|████████████████████████████████████████| 960/960 [00:25<00:00, 38.26it/s]\n"
     ]
    }
   ],
   "source": [
    "coco_data[\"images\"] = []\n",
    "coco_data[\"annotations\"] = []\n",
    "\n",
    "img_id = 0\n",
    "ann_id = 0\n",
    "\n",
    "for img_id in tqdm(train):\n",
    "    \n",
    "    xml_path = anno_path + '/' + files[img_id]\n",
    "    xml = ET.parse(xml_path)\n",
    "    \n",
    "    root = xml.getroot()\n",
    "    #get the name of file without extension\n",
    "    fname = root.attrib['filename'][:-4]\n",
    "    \n",
    "    img_name = fname + \".bmp\"\n",
    "    img = img_path + '/' + img_name\n",
    "    if(not os.path.isfile(img)):\n",
    "        print('error reading file\\n',img)\n",
    "        continue\n",
    "    img = cv2.imread(img, 1)\n",
    "    h, w, c = img.shape\n",
    "\n",
    "    images_tmp = {}\n",
    "    images_tmp[\"file_name\"] = img_name\n",
    "    images_tmp[\"height\"] = h\n",
    "    images_tmp[\"width\"] = w\n",
    "    images_tmp[\"id\"] = img_id\n",
    "    coco_data[\"images\"].append(images_tmp)\n",
    "    \n",
    "\n",
    "    children = root.getchildren()    \n",
    "    for child in children:\n",
    "        \n",
    "        label = child.tag[:-6]\n",
    "        coords = child.find('Coords')\n",
    "        points = coords.attrib['points'].split(' ')\n",
    "        x1,y1 = [int(p) for p in points[0].split(',')]\n",
    "        x2,y2 = [int(p) for p in points[3].split(',')]\n",
    "\n",
    "        annotations_tmp = {}\n",
    "        annotations_tmp[\"id\"] = ann_id\n",
    "        ann_id += 1\n",
    "        annotations_tmp[\"image_id\"] = img_id\n",
    "        annotations_tmp[\"segmentation\"] = []\n",
    "        annotations_tmp[\"ignore\"] = 0\n",
    "        annotations_tmp[\"area\"] = (x2-x1)*(y2-y1)\n",
    "        annotations_tmp[\"iscrowd\"] = 0\n",
    "        annotations_tmp[\"bbox\"] = [x1, y1, x2-x1, y2-y1]\n",
    "        annotations_tmp[\"category_id\"] = cats.index(label)\n",
    "\n",
    "        coco_data[\"annotations\"].append(annotations_tmp)"
   ]
  },
  {
   "cell_type": "code",
   "execution_count": 105,
   "metadata": {},
   "outputs": [],
   "source": [
    "outfile =  open(output_annotation_file, 'w')\n",
    "json_str = json.dumps(coco_data, indent=4)\n",
    "outfile.write(json_str)\n",
    "outfile.close()"
   ]
  }
 ],
 "metadata": {
  "kernelspec": {
   "display_name": "Python 3",
   "language": "python",
   "name": "python3"
  },
  "language_info": {
   "codemirror_mode": {
    "name": "ipython",
    "version": 3
   },
   "file_extension": ".py",
   "mimetype": "text/x-python",
   "name": "python",
   "nbconvert_exporter": "python",
   "pygments_lexer": "ipython3",
   "version": "3.6.10"
  }
 },
 "nbformat": 4,
 "nbformat_minor": 4
}
