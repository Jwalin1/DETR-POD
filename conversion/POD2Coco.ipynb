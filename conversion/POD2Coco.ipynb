{
 "cells": [
  {
   "cell_type": "code",
   "execution_count": 12,
   "metadata": {},
   "outputs": [],
   "source": [
    "import os\n",
    "import cv2\n",
    "from tqdm import tqdm\n",
    "import json\n",
    "\n",
    "icdar_path = \"E:/Main-Task/icdar17_POD\"\n",
    "\n",
    "dtype = \"test\"\n",
    "partitionedfiles_path = os.path.join(icdar_path, \"dataset/partitioned\")\n",
    "anno_path = os.path.join(partitionedfiles_path, dtype, \"annotations\")\n",
    "img_path = os.path.join(partitionedfiles_path, dtype)\n",
    "output_annotation_file = partitionedfiles_path + \"/POD_\" + dtype + \".json\""
   ]
  },
  {
   "cell_type": "code",
   "execution_count": 13,
   "metadata": {},
   "outputs": [
    {
     "name": "stdout",
     "output_type": "stream",
     "text": [
      "[{'supercategory': 'none', 'id': 0, 'name': 'figure'}, {'supercategory': 'none', 'id': 1, 'name': 'formula'}, {'supercategory': 'none', 'id': 2, 'name': 'table'}]\n"
     ]
    }
   ],
   "source": [
    "coco_data = {}\n",
    "files = os.listdir(anno_path)    #get all files in the folder\n",
    "cats = []\n",
    "\n",
    "for i in range(len(files)):\n",
    "    \n",
    "    #read the file contents\n",
    "    fname = anno_path + \"/\" + files[i]\n",
    "    f = open(fname, 'r')\n",
    "    next(f)    #skip the first row\n",
    "    lines = f.readlines()        \n",
    "    f.close()   \n",
    "\n",
    "    #loop to form categories for the list dictionary\n",
    "    for j in range(1,len(lines)-1,3):  \n",
    "        start = lines[j].find(\"<\") + 1\n",
    "        end = lines[j].find(\"Region\")\n",
    "        cat_name = lines[j][start:end]\n",
    "        if cat_name not in cats:            \n",
    "            cats.append(cat_name)\n",
    "    cats = sorted(cats)        \n",
    "    \n",
    "list_dict = []\n",
    "for i in range(len(cats)):\n",
    "    tmp = {}\n",
    "    tmp[\"supercategory\"] = \"none\"\n",
    "    tmp[\"id\"] = i\n",
    "    tmp[\"name\"] = cats[i]\n",
    "    list_dict.append(tmp)\n",
    "\n",
    "coco_data[\"categories\"] = list_dict\n",
    "print(coco_data[\"categories\"])"
   ]
  },
  {
   "cell_type": "code",
   "execution_count": 14,
   "metadata": {},
   "outputs": [
    {
     "name": "stderr",
     "output_type": "stream",
     "text": [
      "100%|████████████████████████████████████████| 320/320 [00:08<00:00, 39.26it/s]\n"
     ]
    }
   ],
   "source": [
    "coco_data[\"images\"] = []\n",
    "coco_data[\"annotations\"] = []\n",
    "\n",
    "img_id = 0\n",
    "ann_id = 0\n",
    "\n",
    "for img_id in tqdm(range(len(files))):\n",
    "    \n",
    "    #read the file contents\n",
    "    fname = anno_path + \"/\" + files[img_id]\n",
    "    f = open(fname, 'r')\n",
    "    next(f)    #skip the first row\n",
    "    lines = f.readlines()        \n",
    "    f.close()   \n",
    "    \n",
    "    \n",
    "    fname = lines[0][20:28]   #get the name of file without extension\n",
    "    img_name = fname + \".bmp\"\n",
    "    \n",
    "\n",
    "    img = img_path + '/' + img_name\n",
    "    if(not os.path.isfile(img)):\n",
    "        print('error reading file\\n',img)\n",
    "        continue\n",
    "    img = cv2.imread(img, 1)\n",
    "    h, w, c = img.shape\n",
    "\n",
    "    images_tmp = {}\n",
    "    images_tmp[\"file_name\"] = img_name\n",
    "    images_tmp[\"height\"] = h\n",
    "    images_tmp[\"width\"] = w\n",
    "    images_tmp[\"id\"] = img_id\n",
    "    coco_data[\"images\"].append(images_tmp)\n",
    "    \n",
    "\n",
    "    j = 1\n",
    "    while j in range(len(lines)-1):\n",
    "        \n",
    "        start = lines[j].find(\"<\") + 1\n",
    "        end = lines[j].find(\"Region\")\n",
    "        cat_name = lines[j][start:end]\n",
    "            \n",
    "        j += 1\n",
    "        start = lines[j].find('\"') + 1\n",
    "        end = lines[j].rfind('\"')\n",
    "        coords = lines[j][start:end].split(' ')\n",
    "        x1, y1 = [int(x) for x in coords[0].split(\",\")]\n",
    "        x2, y2 = [int(x) for x in coords[3].split(\",\")]\n",
    "        label = cat_name\n",
    "        \n",
    "\n",
    "        annotations_tmp = {}\n",
    "        annotations_tmp[\"id\"] = ann_id\n",
    "        ann_id += 1\n",
    "        annotations_tmp[\"image_id\"] = img_id\n",
    "        annotations_tmp[\"segmentation\"] = []\n",
    "        annotations_tmp[\"ignore\"] = 0\n",
    "        annotations_tmp[\"area\"] = (x2-x1)*(y2-y1)\n",
    "        annotations_tmp[\"iscrowd\"] = 0\n",
    "        annotations_tmp[\"bbox\"] = [x1, y1, x2-x1, y2-y1]\n",
    "        annotations_tmp[\"category_id\"] = cats.index(label)\n",
    "\n",
    "        coco_data[\"annotations\"].append(annotations_tmp)\n",
    "        j += 2\n"
   ]
  },
  {
   "cell_type": "code",
   "execution_count": 15,
   "metadata": {},
   "outputs": [],
   "source": [
    "outfile =  open(output_annotation_file, 'w')\n",
    "json_str = json.dumps(coco_data, indent=4)\n",
    "outfile.write(json_str)\n",
    "outfile.close()"
   ]
  }
 ],
 "metadata": {
  "kernelspec": {
   "display_name": "Python 3",
   "language": "python",
   "name": "python3"
  },
  "language_info": {
   "codemirror_mode": {
    "name": "ipython",
    "version": 3
   },
   "file_extension": ".py",
   "mimetype": "text/x-python",
   "name": "python",
   "nbconvert_exporter": "python",
   "pygments_lexer": "ipython3",
   "version": "3.6.10"
  }
 },
 "nbformat": 4,
 "nbformat_minor": 4
}
