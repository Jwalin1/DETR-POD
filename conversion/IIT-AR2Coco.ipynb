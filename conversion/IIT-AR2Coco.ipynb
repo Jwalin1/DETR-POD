{
 "cells": [
  {
   "cell_type": "code",
   "execution_count": 48,
   "metadata": {},
   "outputs": [],
   "source": [
    "import os\n",
    "from tqdm import tqdm\n",
    "import json\n",
    "from xml.etree import ElementTree as ET\n",
    "\n",
    "anno_path = \"E:/Datasets/Extracted/IIIT-AR-13K_dataset/validation_xml\"\n",
    "output_annotation_file = \"E:/Datasets/Extracted/IIIT-AR-13K_dataset/val.json\"\n",
    "\n",
    "train = range(1000)\n",
    "val = range(500)"
   ]
  },
  {
   "cell_type": "code",
   "execution_count": 49,
   "metadata": {},
   "outputs": [],
   "source": [
    "import re\n",
    "\n",
    "def natural_sort(l): \n",
    "    convert = lambda text: int(text) if text.isdigit() else text.lower() \n",
    "    alphanum_key = lambda key: [ convert(c) for c in re.split('([0-9]+)', key) ] \n",
    "    return sorted(l, key = alphanum_key)"
   ]
  },
  {
   "cell_type": "code",
   "execution_count": 50,
   "metadata": {},
   "outputs": [
    {
     "name": "stdout",
     "output_type": "stream",
     "text": [
      "[{'supercategory': 'none', 'id': 0, 'name': 'abstract'}, {'supercategory': 'none', 'id': 1, 'name': 'author'}, {'supercategory': 'none', 'id': 2, 'name': 'caption'}, {'supercategory': 'none', 'id': 3, 'name': 'date'}, {'supercategory': 'none', 'id': 4, 'name': 'equation'}, {'supercategory': 'none', 'id': 5, 'name': 'figure'}, {'supercategory': 'none', 'id': 6, 'name': 'footer'}, {'supercategory': 'none', 'id': 7, 'name': 'formula'}, {'supercategory': 'none', 'id': 8, 'name': 'list'}, {'supercategory': 'none', 'id': 9, 'name': 'logo'}, {'supercategory': 'none', 'id': 10, 'name': 'natural_image'}, {'supercategory': 'none', 'id': 11, 'name': 'paragraph'}, {'supercategory': 'none', 'id': 12, 'name': 'reference'}, {'supercategory': 'none', 'id': 13, 'name': 'section'}, {'supercategory': 'none', 'id': 14, 'name': 'signature'}, {'supercategory': 'none', 'id': 15, 'name': 'table'}, {'supercategory': 'none', 'id': 16, 'name': 'title'}]\n"
     ]
    }
   ],
   "source": [
    "coco_data = {}\n",
    "files = natural_sort(os.listdir(anno_path))    #get all files in the folder\n",
    "cats = []\n",
    "\n",
    "'''\n",
    "for i in tqdm(range(len(files))):\n",
    "    xml_path = anno_path + '/' + files[i]\n",
    "    xml = ET.parse(xml_path)\n",
    "    #print(xml['annotations'])\n",
    "    \n",
    "    root = xml.getroot()\n",
    "\n",
    "    names = root.findall('object/name')\n",
    "    for name in names:\n",
    "        if name.text not in cats:\n",
    "            cats.append(name.text)\n",
    "cats = sorted(cats)\n",
    "'''\n",
    "\n",
    "cats = ['abstract', 'author', 'caption', 'date', 'equation', 'figure', 'footer', 'formula', 'list', 'logo', 'natural_image', 'paragraph', 'reference', 'section', 'signature', 'table', 'title']\n",
    "\n",
    "list_dict = []\n",
    "for i in range(len(cats)):\n",
    "    tmp = {}\n",
    "    tmp[\"supercategory\"] = \"none\"\n",
    "    tmp[\"id\"] = i\n",
    "    tmp[\"name\"] = cats[i]\n",
    "    list_dict.append(tmp)\n",
    "\n",
    "coco_data[\"categories\"] = list_dict\n",
    "print(coco_data[\"categories\"])           "
   ]
  },
  {
   "cell_type": "code",
   "execution_count": 51,
   "metadata": {},
   "outputs": [
    {
     "name": "stderr",
     "output_type": "stream",
     "text": [
      "100%|██████████████████████████████████████| 500/500 [00:00<00:00, 4901.69it/s]\n"
     ]
    }
   ],
   "source": [
    "coco_data[\"images\"] = []\n",
    "coco_data[\"annotations\"] = []\n",
    "\n",
    "ann_id = 0\n",
    "\n",
    "for i in tqdm(val):\n",
    "    \n",
    "    xml_path = anno_path + '/' + files[i]\n",
    "    xml = ET.parse(xml_path)\n",
    "    \n",
    "    root = xml.getroot()\n",
    "    img_name = files[i].replace('xml','jpg')\n",
    "    \n",
    "    sizes = root.findall('size')\n",
    "    w = sizes[0][0].text\n",
    "    h = sizes[0][1].text\n",
    "    \n",
    "    images_tmp = {}\n",
    "    images_tmp[\"file_name\"] = img_name\n",
    "    images_tmp[\"height\"] = h\n",
    "    images_tmp[\"width\"] = w\n",
    "    images_tmp[\"id\"] = i\n",
    "    coco_data[\"images\"].append(images_tmp)\n",
    "    \n",
    "    objs = root.findall('object')\n",
    "    for obj in objs:\n",
    "        \n",
    "        label = obj.find('name').text\n",
    "        x1 = int(obj.find('bndbox/xmin').text)\n",
    "        y1 = int(obj.find('bndbox/ymin').text)\n",
    "        x2 = int(obj.find('bndbox/xmax').text)\n",
    "        y2 = int(obj.find('bndbox/ymax').text)\n",
    "    \n",
    "        annotations_tmp = {}\n",
    "        annotations_tmp[\"id\"] = ann_id\n",
    "        ann_id += 1\n",
    "        annotations_tmp[\"image_id\"] = i\n",
    "        annotations_tmp[\"segmentation\"] = []\n",
    "        annotations_tmp[\"ignore\"] = 0\n",
    "        annotations_tmp[\"area\"] = (x2-x1)*(y2-y1)\n",
    "        annotations_tmp[\"iscrowd\"] = 0\n",
    "        annotations_tmp[\"bbox\"] = [x1, y1, x2-x1, y2-y1]\n",
    "        annotations_tmp[\"category_id\"] = cats.index(label)\n",
    "\n",
    "        coco_data[\"annotations\"].append(annotations_tmp)"
   ]
  },
  {
   "cell_type": "code",
   "execution_count": 52,
   "metadata": {},
   "outputs": [],
   "source": [
    "outfile =  open(output_annotation_file, 'w')\n",
    "json_str = json.dumps(coco_data, indent=4)\n",
    "outfile.write(json_str)\n",
    "outfile.close()"
   ]
  }
 ],
 "metadata": {
  "kernelspec": {
   "display_name": "Python 3",
   "language": "python",
   "name": "python3"
  },
  "language_info": {
   "codemirror_mode": {
    "name": "ipython",
    "version": 3
   },
   "file_extension": ".py",
   "mimetype": "text/x-python",
   "name": "python",
   "nbconvert_exporter": "python",
   "pygments_lexer": "ipython3",
   "version": "3.6.10"
  }
 },
 "nbformat": 4,
 "nbformat_minor": 4
}
