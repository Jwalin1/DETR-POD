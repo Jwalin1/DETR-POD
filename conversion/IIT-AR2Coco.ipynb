{
 "cells": [
  {
   "cell_type": "code",
   "execution_count": 77,
   "metadata": {},
   "outputs": [],
   "source": [
    "import os\n",
    "import cv2\n",
    "from tqdm import tqdm\n",
    "import json\n",
    "from xml.etree import ElementTree as ET\n",
    "\n",
    "anno_path = \"E:/IIIT-AR-13K_dataset/validation_xml\"\n",
    "output_annotation_file = \"E:/IIIT-AR-13K_dataset/val.json\""
   ]
  },
  {
   "cell_type": "code",
   "execution_count": 63,
   "metadata": {},
   "outputs": [
    {
     "name": "stderr",
     "output_type": "stream",
     "text": [
      "100%|████████████████████████████████████| 1955/1955 [00:00<00:00, 7057.36it/s]"
     ]
    },
    {
     "name": "stdout",
     "output_type": "stream",
     "text": [
      "[{'supercategory': 'none', 'id': 0, 'name': 'figure'}, {'supercategory': 'none', 'id': 1, 'name': 'logo'}, {'supercategory': 'none', 'id': 2, 'name': 'natural_image'}, {'supercategory': 'none', 'id': 3, 'name': 'signature'}, {'supercategory': 'none', 'id': 4, 'name': 'table'}]\n"
     ]
    },
    {
     "name": "stderr",
     "output_type": "stream",
     "text": [
      "\n"
     ]
    }
   ],
   "source": [
    "coco_data = {}\n",
    "files = os.listdir(anno_path)    #get all files in the folder\n",
    "cats = []\n",
    "\n",
    "for i in tqdm(range(len(files))):\n",
    "    xml_path = anno_path + '/' + files[i]\n",
    "    xml = ET.parse(xml_path)\n",
    "    #print(xml['annotations'])\n",
    "    \n",
    "    root = xml.getroot()\n",
    "\n",
    "    names = root.findall('object/name')\n",
    "    for name in names:\n",
    "        if name.text not in cats:\n",
    "            cats.append(name.text)\n",
    "cats = sorted(cats)                    \n",
    "\n",
    "list_dict = []\n",
    "for i in range(len(cats)):\n",
    "    tmp = {}\n",
    "    tmp[\"supercategory\"] = \"none\"\n",
    "    tmp[\"id\"] = i\n",
    "    tmp[\"name\"] = cats[i]\n",
    "    list_dict.append(tmp)\n",
    "\n",
    "coco_data[\"categories\"] = list_dict\n",
    "print(coco_data[\"categories\"])           "
   ]
  },
  {
   "cell_type": "code",
   "execution_count": 76,
   "metadata": {},
   "outputs": [
    {
     "name": "stderr",
     "output_type": "stream",
     "text": [
      "100%|████████████████████████████████████| 1955/1955 [00:00<00:00, 5430.25it/s]\n"
     ]
    }
   ],
   "source": [
    "coco_data[\"images\"] = []\n",
    "coco_data[\"annotations\"] = []\n",
    "\n",
    "ann_id = 0\n",
    "\n",
    "for i in tqdm(range(len(files))):\n",
    "    \n",
    "    xml_path = anno_path + '/' + files[i]\n",
    "    xml = ET.parse(xml_path)\n",
    "    \n",
    "    root = xml.getroot()\n",
    "\n",
    "    names = root.findall('filename')\n",
    "    img_name = names[0].text\n",
    "    \n",
    "    sizes = root.findall('size')\n",
    "    w = sizes[0][0].text\n",
    "    h = sizes[0][1].text\n",
    "    \n",
    "    images_tmp = {}\n",
    "    images_tmp[\"file_name\"] = img_name\n",
    "    images_tmp[\"height\"] = h\n",
    "    images_tmp[\"width\"] = w\n",
    "    images_tmp[\"id\"] = i\n",
    "    coco_data[\"images\"].append(images_tmp)\n",
    "    \n",
    "    objs = root.findall('object')\n",
    "    for obj in objs:\n",
    "        \n",
    "        label = obj.find('name').text\n",
    "        x1 = int(obj.find('bndbox/xmin').text)\n",
    "        y1 = int(obj.find('bndbox/ymin').text)\n",
    "        x2 = int(obj.find('bndbox/xmax').text)\n",
    "        y2 = int(obj.find('bndbox/ymax').text)\n",
    "    \n",
    "        annotations_tmp = {}\n",
    "        annotations_tmp[\"id\"] = ann_id\n",
    "        ann_id += 1\n",
    "        annotations_tmp[\"image_id\"] = i\n",
    "        annotations_tmp[\"segmentation\"] = []\n",
    "        annotations_tmp[\"ignore\"] = 0\n",
    "        annotations_tmp[\"area\"] = (x2-x1)*(y2-y1)\n",
    "        annotations_tmp[\"iscrowd\"] = 0\n",
    "        annotations_tmp[\"bbox\"] = [x1, y1, x2-x1, y2-y1]\n",
    "        annotations_tmp[\"category_id\"] = cats.index(label)\n",
    "\n",
    "        coco_data[\"annotations\"].append(annotations_tmp)"
   ]
  },
  {
   "cell_type": "code",
   "execution_count": 78,
   "metadata": {},
   "outputs": [],
   "source": [
    "outfile =  open(output_annotation_file, 'w')\n",
    "json_str = json.dumps(coco_data, indent=4)\n",
    "outfile.write(json_str)\n",
    "outfile.close()"
   ]
  }
 ],
 "metadata": {
  "kernelspec": {
   "display_name": "Python 3",
   "language": "python",
   "name": "python3"
  },
  "language_info": {
   "codemirror_mode": {
    "name": "ipython",
    "version": 3
   },
   "file_extension": ".py",
   "mimetype": "text/x-python",
   "name": "python",
   "nbconvert_exporter": "python",
   "pygments_lexer": "ipython3",
   "version": "3.6.10"
  }
 },
 "nbformat": 4,
 "nbformat_minor": 4
}
